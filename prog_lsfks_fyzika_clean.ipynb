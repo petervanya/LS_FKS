{
 "metadata": {
  "anaconda-cloud": {},
  "kernelspec": {
   "display_name": "Python [Root]",
   "language": "python",
   "name": "Python [Root]"
  },
  "language_info": {
   "codemirror_mode": {
    "name": "ipython",
    "version": 3
   },
   "file_extension": ".py",
   "mimetype": "text/x-python",
   "name": "python",
   "nbconvert_exporter": "python",
   "pygments_lexer": "ipython3",
   "version": "3.5.2"
  },
  "name": ""
 },
 "nbformat": 3,
 "nbformat_minor": 0,
 "worksheets": [
  {
   "cells": [
    {
     "cell_type": "markdown",
     "metadata": {},
     "source": [
      "# Programovanie pre z\u00e1klado\u0161kol\u00e1kov 2\n",
      "\n",
      "Letn\u00e1 \u0161kola FKS 2017\n",
      "\n",
      "Jakub Bahyl & Peter Vanya\n",
      "\n",
      "Po\u010das poslend\u00fdch dn\u00ed sme sa nau\u010dili z\u00e1klady programovania. Teraz by sme radi tieto z\u00e1klady aplikovali na nie\u010do u\u017eito\u010dn\u00e9. Nau\u010d\u00edme sa, ako rie\u0161i\u0165 pohybov\u00e9 rovnice."
     ]
    },
    {
     "cell_type": "markdown",
     "metadata": {},
     "source": [
      "## Trochu te\u00f3r\u00ede -- druh\u00fd Newtonov z\u00e1kon\n",
      "\n",
      "S\u00fa\u010det s\u00edl sa rovn\u00e1 hmotnos\u0165 kr\u00e1t zr\u00fdchlenie:\n",
      "$$ \\sum_i \\mathbf F_i = m \\mathbf a .$$\n",
      "\n",
      "Zr\u00fdchlenie je zmena r\u00fdchlosti za jednotku \u010dasu. Napr. pri zr\u00fdchlen\u00ed 2.5 m/s$^2$ sa r\u00fdchlos\u0165 zv\u00fd\u0161i o 2.5 m/s ka\u017ed\u00fa sekundu. Intuit\u00edvne.\n",
      "\n",
      "Sila $\\mathbf F$ aj zr\u00fdchlenie $\\mathbf a$ s\u00fa vektory, ozna\u010dujeme ich preto tu\u010dn\u00fdm p\u00edsmom. Ka\u017ed\u00fd z nich m\u00e1 tri zlo\u017eky, v x-ovej, y-ovej a z-ovej osi, napr.:\n",
      "\n",
      "$$\\mathbf F = (F_x, F_y, F_z).$$\n",
      "\n",
      "To ist\u00e9 plat\u00ed pre r\u00fdchlos\u0165, zr\u00fdchlenie a mnoh\u00e9 in\u00e9 veli\u010diny, ako napr. elektrick\u00e9 alebo magnetick\u00e9 pole.\n",
      "\n",
      "Cie\u013eom pre n\u00e1s je po zadan\u00ed s\u00edl vyrie\u0161i\u0165, ako sa men\u00ed r\u00fdchlos\u0165 a prejden\u00e1 vzdialenos\u0165 v \u010dase. Tento proces sa matematicky naz\u00fdva \\emph{integrovanie} a u\u010d\u00ed sa a\u017e v posledn\u00fdch ro\u010dn\u00edkoch strednej \u0161koly. Na po\u010d\u00edta\u010di to v\u0161ak mo\u017eno pochopi\u0165 omnoho r\u00fdchlej\u0161ie. O to sa dnes pok\u00fasime."
     ]
    },
    {
     "cell_type": "markdown",
     "metadata": {},
     "source": [
      "## Pr\u00edklady s\u00edl\n",
      "Pre jednoduchos\u0165 budeme pokra\u010dova\u0165 len v jednom rozmere. Ak bude z\u00e1ujem, m\u00f4\u017eeme vysvetli\u0165, ako to zov\u0161eobecni\u0165 na tri rozmery.\n",
      "\n",
      "### Tia\u017eov\u00e1:\n",
      "$$ F = mg,$$\n",
      "\n",
      "kde $g$ je gravita\u010dn\u00e9 zr\u00fdchlenie, $g\\approx 10$ m/s$^2$. Tia\u017eov\u00e1 sila je kon\u0161tant\u00e1, a teda zr\u00fdchlenie je kon\u0161tantn\u00e9, a teda r\u00fdchlos\u0165 rovnomerne st\u00fapa s \u010dasom. Ako sa men\u00ed vzdialenos\u0165 bude treba zisti\u0165.\n",
      "\n",
      "### Odporov\u00e1 vo vzduchu:\n",
      "$$ F = \\frac 1 2 C \\rho_v S v^2 = k v^2,$$\n",
      "kde $C$ je koeficient odporu vzduchu, $\\rho_v$ hustota vzduchu, a $S$ prierez predmetu.\n",
      "\n",
      "### \u0164ahov\u00e1 sila od pru\u017e\u00edny:\n",
      "$$ F = -k x,$$\n",
      "kde $k$\u00a0je tuhos\u0165 pru\u017einy a $x$ v\u00fdchylka. Sila p\u00f4sob\u00ed v opa\u010dnom smere, ako v\u00fdchylka.\n"
     ]
    },
    {
     "cell_type": "markdown",
     "metadata": {},
     "source": [
      "## Vektory na po\u010d\u00edta\u010di\n",
      "\n",
      "Pre na\u0161e v\u00fdpo\u010dty budeme potrebova\u0165 *kni\u017enice*. Kni\u017enica je kus k\u00f3du, ktor\u00fd u\u017e niekto nap\u00edsal za n\u00e1s a my ho m\u00f4\u017eeme pou\u017ei\u0165. Budeme potrebova\u0165 dve:\n",
      "1. NumPy: nar\u00e1banie s vektormi a maticami\n",
      "2. matplotlib: kreslenie grafov\n",
      "\n",
      "V r\u00fdchlosti si vysvetl\u00edme, ako s nimi nar\u00e1ba\u0165."
     ]
    },
    {
     "cell_type": "code",
     "collapsed": true,
     "input": [
      "# importujeme ich\n",
      "import numpy as np\n",
      "import matplotlib.pyplot as plt\n",
      "%matplotlib inline"
     ],
     "language": "python",
     "metadata": {},
     "outputs": [],
     "prompt_number": null
    },
    {
     "cell_type": "code",
     "collapsed": false,
     "input": [
      "v = np.array([3, 2, 1]) # toto je vektor cel\u00fdch \u010d\u00edsel\n",
      "print(v)"
     ],
     "language": "python",
     "metadata": {},
     "outputs": [],
     "prompt_number": null
    },
    {
     "cell_type": "code",
     "collapsed": false,
     "input": [
      "v + v                   # scitanie po zlozkach"
     ],
     "language": "python",
     "metadata": {},
     "outputs": [],
     "prompt_number": null
    },
    {
     "cell_type": "code",
     "collapsed": false,
     "input": [
      "v - v"
     ],
     "language": "python",
     "metadata": {},
     "outputs": [],
     "prompt_number": null
    },
    {
     "cell_type": "code",
     "collapsed": false,
     "input": [
      "3 * v"
     ],
     "language": "python",
     "metadata": {},
     "outputs": [],
     "prompt_number": null
    },
    {
     "cell_type": "code",
     "collapsed": false,
     "input": [
      "v**2                    # mocnenie po zlozkach"
     ],
     "language": "python",
     "metadata": {},
     "outputs": [],
     "prompt_number": null
    },
    {
     "cell_type": "code",
     "collapsed": false,
     "input": [
      "v @ v"
     ],
     "language": "python",
     "metadata": {},
     "outputs": [],
     "prompt_number": null
    },
    {
     "cell_type": "code",
     "collapsed": false,
     "input": [
      "w = np.arange(10)       # rozsah\n",
      "print(w)"
     ],
     "language": "python",
     "metadata": {},
     "outputs": [],
     "prompt_number": null
    },
    {
     "cell_type": "code",
     "collapsed": false,
     "input": [
      "w = np.arange(1, 11, 3)\n",
      "print(w)"
     ],
     "language": "python",
     "metadata": {},
     "outputs": [],
     "prompt_number": null
    },
    {
     "cell_type": "code",
     "collapsed": false,
     "input": [
      "w = np.linspace(0, 20, 10)   # ak chceme vektor aj s koncami\n",
      "print(w)\n",
      "print(len(w))"
     ],
     "language": "python",
     "metadata": {},
     "outputs": [],
     "prompt_number": null
    },
    {
     "cell_type": "code",
     "collapsed": false,
     "input": [
      "N = 5\n",
      "3.14 * np.ones(N)            # vektor jednotiek"
     ],
     "language": "python",
     "metadata": {},
     "outputs": [],
     "prompt_number": null
    },
    {
     "cell_type": "code",
     "collapsed": false,
     "input": [
      "N = 8\n",
      "np.zeros(8)           # vektor nul"
     ],
     "language": "python",
     "metadata": {},
     "outputs": [],
     "prompt_number": null
    },
    {
     "cell_type": "code",
     "collapsed": false,
     "input": [
      "x = np.linspace(0, 10, 101)\n",
      "y1 = x**2 / 100\n",
      "y2 = np.cos(x)\n",
      "y3 = np.exp(-x / 10)\n",
      "plt.plot(x, y1)        # takto sa vyraba graf\n",
      "plt.plot(x, y2)\n",
      "plt.plot(x, y3)\n",
      "plt.xlabel(\"x\")\n",
      "plt.ylabel(\"y\")"
     ],
     "language": "python",
     "metadata": {},
     "outputs": [],
     "prompt_number": null
    },
    {
     "cell_type": "code",
     "collapsed": false,
     "input": [
      "M = np.array([[0, 1], [2, 3]])   # matica\n",
      "print(M)"
     ],
     "language": "python",
     "metadata": {
      "scrolled": false
     },
     "outputs": [],
     "prompt_number": null
    },
    {
     "cell_type": "code",
     "collapsed": false,
     "input": [
      "4 * M           # vynasobime stvorkou vsetky prvky"
     ],
     "language": "python",
     "metadata": {},
     "outputs": [],
     "prompt_number": null
    },
    {
     "cell_type": "code",
     "collapsed": false,
     "input": [
      "M * M           # nasobenie po zlozkach"
     ],
     "language": "python",
     "metadata": {
      "scrolled": true
     },
     "outputs": [],
     "prompt_number": null
    },
    {
     "cell_type": "code",
     "collapsed": false,
     "input": [
      "M @ M           # maticove nasobenie, kto to pozna"
     ],
     "language": "python",
     "metadata": {
      "scrolled": true
     },
     "outputs": [],
     "prompt_number": null
    },
    {
     "cell_type": "code",
     "collapsed": false,
     "input": [
      "v = np.array([1, 3])\n",
      "M @ v           # vektorove nasobenie"
     ],
     "language": "python",
     "metadata": {},
     "outputs": [],
     "prompt_number": null
    },
    {
     "cell_type": "markdown",
     "metadata": {},
     "source": [
      "## [\u00daloha]\n",
      "\n",
      "Vymyslite si vektor a maticu. Vyg\u00faglite, ako mo\u017eno zisti\u0165 ve\u013ekos\u0165 matice a vektora, a ako mo\u017eno zosumova\u0165 ich zlo\u017eky."
     ]
    },
    {
     "cell_type": "code",
     "collapsed": false,
     "input": [
      "# tvoje riesenie"
     ],
     "language": "python",
     "metadata": {},
     "outputs": [],
     "prompt_number": null
    },
    {
     "cell_type": "markdown",
     "metadata": {},
     "source": [
      "Teraz vieme (pribli\u017ene!) v\u0161etko, \u010do treba na to, aby sme mohli za\u010da\u0165 robi\u0165 fyziku."
     ]
    },
    {
     "cell_type": "markdown",
     "metadata": {},
     "source": [
      "## Prv\u00fd pr\u00edklad: vo\u013en\u00fd p\u00e1d kame\u0148a\n",
      "\n",
      "Ak nech\u00e1m padn\u00fa\u0165 kame\u0148 z v\u00fd\u0161ky $h$, zo z\u00e1kona zachovania viem vypo\u010d\u00edta\u0165 jeho v\u00fdsledn\u00fa r\u00fdchlos\u0165 na zemi. Treba na to rovnice pre kinetick\u00fa a potenci\u00e1lnu energiu:\n",
      "\n",
      "\\begin{align}\n",
      "KE &= \\frac 1 2 mv^2,\\\\\n",
      "PE &= m g h.\n",
      "\\end{align}\n",
      "\n",
      "Ak sa energia zachov\u00e1va, viem, \u017ee v\u00fdsledn\u00e1 r\u00fdchlos\u0165 $v = \\sqrt{2gh}$ (ak neviete, odvo\u010fte).\n",
      "\n",
      "Neviem v\u0161ak, ko\u013eko \u010dasu to potrv\u00e1, na to potrebujem trochu in\u00fd apar\u00e1t, a to pohybov\u00fa rovnicu $F = ma$.\n",
      "\n",
      "Postupova\u0165 budeme tak, \u017ee si ur\u010d\u00edme polohu a r\u00fdchlos\u0165 na za\u010diatku. K r\u00fdchlosti budeme po k\u00faskoch pri\u010d\u00edtava\u0165 zr\u00fdchlenie, a k polohe po k\u00faskoch nov\u00fa r\u00fdchlos\u0165, a\u017e sa dostaneme zo stola na zem:\n",
      "\\begin{align}\n",
      "a_{i+1} &= F(x_i, v_i) \\,/\\, m,\\\\\n",
      "v_{i+1} &= v_i + a_i \\Delta t,\\\\\n",
      "x_{i+1} &= x_i + v_i \\Delta t.\n",
      "\\end{align}\n",
      "\n",
      "V\u00fdsledky budeme uklada\u0165 do vektora polohy a r\u00fdchlosti.\n",
      "\n",
      "Tento postup sa vol\u00e1 *Eulerova met\u00f3da* a je najjednoduch\u0161\u00ed zo v\u0161etk\u00fdch. V praxi sa v\u0161ak nepou\u017e\u00edva, medzi\u010dasom vymysleli sofistikovanej\u0161ie algoritmy. Najzn\u00e1mej\u0161ie s\u00fa Runge-Kutta 4 a hlavne Verletov algoritmus vyu\u017e\u00edvan\u00fd v obrovsk\u00fdch atomov\u00fdch simul\u00e1ci\u00e1ch:\n",
      "\n",
      "\\begin{align}\n",
      "x_{i+1} &= 2 x_i - x_{i-1} + \\frac{F(x_i)}{m} \\Delta t^2.\n",
      "\\end{align}\n"
     ]
    },
    {
     "cell_type": "markdown",
     "metadata": {},
     "source": [
      "## [\u00daloha]\n",
      "Nap\u00ed\u0161te funkciu pre kinetick\u00fa a potenci\u00e1lnu energiu ich a tie\u017e ich s\u00fa\u010det pre ka\u017ed\u00fd \u010dasov\u00fd krok. Ulo\u017ete ich do vektora a vykreslite v grafe. Dostali ste o\u010dak\u00e1van\u00fd v\u00fdsledok? "
     ]
    },
    {
     "cell_type": "markdown",
     "metadata": {},
     "source": [
      "## 2. pr\u00edklad: kmitanie na pru\u017eine\n",
      "\n",
      "Ak posad\u00edme z\u00e1va\u017eie na pru\u017einu a vych\u00fdlime ho o $x$, sila, ktorou bude pru\u017eina na z\u00e1va\u017eie p\u00f4sobi\u0165, je $F(x) = -kx$. \n",
      "\n",
      "Podobne ako v predo\u0161lom pr\u00edklade, zistite, ako sa tak\u00fdto syst\u00e9m vyv\u00edja v \u010dase. Majte na pam\u00e4ti, \u017ee tentokr\u00e1t sa zr\u00fdchlenie men\u00ed v \u010dase, a teda ho treba priebe\u017ene upravova\u0165.\n",
      "\n",
      "Spo\u010d\u00edtajte takisto kinetick\u00fa a potenci\u00e1lnu energiu (vyg\u00faglite alebo uh\u00e1dnite, ak\u00fd tvar m\u00e1 potenci\u00e1lna energia z\u00e1va\u017eia na pru\u017eine) v ka\u017edom \u010dase a vykreslite.\n",
      "\n",
      "Nast\u00e1va v \u010dase nejak\u00fd n\u00e1rast alebo pokles? Ak \u00e1no, pohrajte sa s ve\u013ekos\u0165ou kroku $\\Delta t$. Toto je d\u00f4le\u017eit\u00e1 veli\u010dina, ktor\u00fa sme podrobne neprediskutovali, av\u0161ak pre presnos\u0165 simul\u00e1cie je k\u013e\u00fa\u010dov\u00e1."
     ]
    },
    {
     "cell_type": "markdown",
     "metadata": {},
     "source": [
      "## 3. pr\u00edklad: kmitanie na pru\u017eine v odporovom prostred\u00ed\n",
      "\n",
      "Pod odporom si predstavme vzduch, vodu alebo med. Pre\u010do by pru\u017einy nemohli kmita\u0165 v mede? \n",
      "\n",
      "Okrem \u0165ahovej sily od pru\u017einy tu p\u00f4sob\u00ed sila odporov\u00e1: $F = -\\gamma v$.\n",
      "\n",
      "Pohybov\u00e1 rovnica teda vyzer\u00e1 nasledovne:\n",
      "\n",
      "$$ m\\ddot x(t) + \\gamma \\dot x(t) + k x(t) = 0.$$\n",
      "\n",
      "Vyrie\u0161te rovnice pre r\u00f4zne hodnoty odporovej kon\u0161tanty $\\kappa$, od nuly po 5 alebo viac. Ako tuhos\u0165 vyberte $k=1$ a hmotnos\u0165 $m=1$. Ak\u00e9 kvalitat\u00edvne zmeny nast\u00e1vaj\u00fa pri kmitan\u00ed?"
     ]
    },
    {
     "cell_type": "markdown",
     "metadata": {
      "collapsed": true
     },
     "source": [
      "## 4. pr\u00edklad pre maka\u010dov: \u0161ikm\u00fd vrh\n",
      "\n",
      "Nasimulujte \u0161ikm\u00fd vrh, ide\u00e1lne aj v odporovom prostred\u00ed."
     ]
    },
    {
     "cell_type": "code",
     "collapsed": true,
     "input": [],
     "language": "python",
     "metadata": {},
     "outputs": [],
     "prompt_number": null
    }
   ],
   "metadata": {}
  }
 ]
}