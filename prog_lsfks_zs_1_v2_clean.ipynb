{
 "metadata": {
  "anaconda-cloud": {},
  "kernelspec": {
   "display_name": "Python [Root]",
   "language": "python",
   "name": "Python [Root]"
  },
  "language_info": {
   "codemirror_mode": {
    "name": "ipython",
    "version": 3
   },
   "file_extension": ".py",
   "mimetype": "text/x-python",
   "name": "python",
   "nbconvert_exporter": "python",
   "pygments_lexer": "ipython3",
   "version": "3.5.2"
  },
  "name": ""
 },
 "nbformat": 3,
 "nbformat_minor": 0,
 "worksheets": [
  {
   "cells": [
    {
     "cell_type": "markdown",
     "metadata": {
      "deletable": true,
      "editable": true
     },
     "source": [
      "# Programovanie pre z\u00e1klado\u0161kol\u00e1kov 1\n",
      "\n",
      "Letn\u00e1 \u0161kola FKS 2017\n",
      "\n",
      "Jakub Bahyl & Peter Vanya\n",
      "\n",
      "V tomto kurze sa nau\u010d\u00edme z\u00e1klady programovania. Tak\u00e9to vedomosti s\u00fa skvel\u00e9 a budete v\u010faka nim: \n",
      "* vedie\u0165 efekt\u00edvnej\u0161ie robi\u0165 dom\u00e1ce \u00falohy\n",
      "* kvalitnej\u0161ie rie\u0161i\u0165 semin\u00e1rov\u00e9 a olympi\u00e1dov\u00e9 pr\u00edklady\n",
      "* lep\u0161ie rozumie\u0165 svetu (IT je dnes na trhu najr\u00fdchlej\u0161ie rozv\u00edjaj\u00facim sa odvetv\u00edm)\n",
      "\n",
      "Po\u010d\u00edta\u010d je blb\u00fd a treba mu v\u0161etko poveda\u0165 a vysvetli\u0165. Komunikova\u0165 sa s n\u00edm d\u00e1 na viacer\u00fdch \u00farovniach, my budeme v tomto kurze pou\u017e\u00edva\u0165 Python.\n",
      "Python (n\u00e1zov odvoden\u00fd z Monty Python's Flying Circus) je v\u0161eobecn\u00fd programovac\u00ed jazyk, ktor\u00fdm sa daj\u00fa vytv\u00e1ra\u0165 webov\u00e9 str\u00e1nky ako aj robi\u0165 seri\u00f3zne vedeck\u00e9 v\u00fdpo\u010dty. To znamen\u00e1, \u017ee nau\u010di\u0165 sa ho nie je na \u0161kodu a raz v\u00e1s mo\u017eno bude \u017eivi\u0165.\n",
      "\n",
      "Rozhranie, v ktorom p\u00ed\u0161eme k\u00f3d, sa vol\u00e1 Jupyter Notebook (Jupyter = Julia, Python, R). Je to prostredie navrhnut\u00e9 tak, aby sa dalo programova\u0165 doslova v prehliada\u010di a aby sa k\u00f3d dal k\u00faskova\u0165. Pre zbehnutie k\u00faskov programu sta\u010d\u00ed stla\u010di\u0165 Shift+Enter. "
     ]
    },
    {
     "cell_type": "code",
     "collapsed": false,
     "input": [
      "# Koment\u00e1re sa p\u00ed\u0161u s he\u0161tegom na za\u010diatku. Toto je koment\u00e1r."
     ],
     "language": "python",
     "metadata": {},
     "outputs": [],
     "prompt_number": null
    },
    {
     "cell_type": "heading",
     "level": 1,
     "metadata": {},
     "source": [
      "D\u00e1tov\u00e9 typy a oper\u00e1tory"
     ]
    },
    {
     "cell_type": "heading",
     "level": 3,
     "metadata": {},
     "source": [
      "\u010c\u00edsla"
     ]
    },
    {
     "cell_type": "code",
     "collapsed": false,
     "input": [
      "3  # pod\u013ea o\u010dak\u00e1van\u00ed, vracia trojku"
     ],
     "language": "python",
     "metadata": {},
     "outputs": [],
     "prompt_number": null
    },
    {
     "cell_type": "code",
     "collapsed": false,
     "input": [
      "2 + 3 # scitanie"
     ],
     "language": "python",
     "metadata": {},
     "outputs": [],
     "prompt_number": null
    },
    {
     "cell_type": "code",
     "collapsed": false,
     "input": [
      "6 - 2 # odcitanie"
     ],
     "language": "python",
     "metadata": {},
     "outputs": [],
     "prompt_number": null
    },
    {
     "cell_type": "code",
     "collapsed": false,
     "input": [
      "10 * 2 # nasobenie"
     ],
     "language": "python",
     "metadata": {},
     "outputs": [],
     "prompt_number": null
    },
    {
     "cell_type": "code",
     "collapsed": false,
     "input": [
      "35 / 5 # delenie"
     ],
     "language": "python",
     "metadata": {},
     "outputs": [],
     "prompt_number": null
    },
    {
     "cell_type": "code",
     "collapsed": false,
     "input": [
      "5 // 3 # celociselne delenie"
     ],
     "language": "python",
     "metadata": {},
     "outputs": [],
     "prompt_number": null
    },
    {
     "cell_type": "code",
     "collapsed": false,
     "input": [
      "7 % 3 # modulo"
     ],
     "language": "python",
     "metadata": {},
     "outputs": [],
     "prompt_number": null
    },
    {
     "cell_type": "code",
     "collapsed": false,
     "input": [
      "2**3 # umocnovanie"
     ],
     "language": "python",
     "metadata": {},
     "outputs": [],
     "prompt_number": null
    },
    {
     "cell_type": "code",
     "collapsed": false,
     "input": [
      "4 * (2 + 3) # poradie dodrzane"
     ],
     "language": "python",
     "metadata": {},
     "outputs": [],
     "prompt_number": null
    },
    {
     "cell_type": "heading",
     "level": 3,
     "metadata": {},
     "source": [
      "Logick\u00e9 v\u00fdrazy"
     ]
    },
    {
     "cell_type": "code",
     "collapsed": false,
     "input": [
      "True"
     ],
     "language": "python",
     "metadata": {},
     "outputs": [],
     "prompt_number": null
    },
    {
     "cell_type": "code",
     "collapsed": false,
     "input": [
      "False"
     ],
     "language": "python",
     "metadata": {},
     "outputs": [],
     "prompt_number": null
    },
    {
     "cell_type": "code",
     "collapsed": false,
     "input": [
      "1 == 1 # logicka rovnost"
     ],
     "language": "python",
     "metadata": {},
     "outputs": [],
     "prompt_number": null
    },
    {
     "cell_type": "code",
     "collapsed": false,
     "input": [
      "2 != 3 # logicka nerovnost"
     ],
     "language": "python",
     "metadata": {},
     "outputs": [],
     "prompt_number": null
    },
    {
     "cell_type": "code",
     "collapsed": false,
     "input": [
      "1 < 10"
     ],
     "language": "python",
     "metadata": {},
     "outputs": [],
     "prompt_number": null
    },
    {
     "cell_type": "code",
     "collapsed": false,
     "input": [
      "1 > 10"
     ],
     "language": "python",
     "metadata": {},
     "outputs": [],
     "prompt_number": null
    },
    {
     "cell_type": "code",
     "collapsed": false,
     "input": [
      "2 <= 2"
     ],
     "language": "python",
     "metadata": {},
     "outputs": [],
     "prompt_number": null
    },
    {
     "cell_type": "heading",
     "level": 3,
     "metadata": {},
     "source": [
      "P\u00edsmen\u00e1 a slov\u00e1"
     ]
    },
    {
     "cell_type": "code",
     "collapsed": false,
     "input": [
      "\"Toto je veta.\""
     ],
     "language": "python",
     "metadata": {},
     "outputs": [],
     "prompt_number": null
    },
    {
     "cell_type": "code",
     "collapsed": false,
     "input": [
      "'Aj toto je veta.'"
     ],
     "language": "python",
     "metadata": {},
     "outputs": [],
     "prompt_number": null
    },
    {
     "cell_type": "code",
     "collapsed": false,
     "input": [
      "'Ahojte ' + 'vsetci'"
     ],
     "language": "python",
     "metadata": {},
     "outputs": [],
     "prompt_number": null
    },
    {
     "cell_type": "code",
     "collapsed": false,
     "input": [
      "len(\"Kolko ma tato veta znakov?\") # pocet znakov v stringu"
     ],
     "language": "python",
     "metadata": {},
     "outputs": [],
     "prompt_number": null
    },
    {
     "cell_type": "code",
     "collapsed": false,
     "input": [
      "\"{} mame ve\u013emi {}\".format(\"Python\", \"radi\") # formatovanie"
     ],
     "language": "python",
     "metadata": {},
     "outputs": [],
     "prompt_number": null
    },
    {
     "cell_type": "heading",
     "level": 1,
     "metadata": {
      "deletable": true,
      "editable": true
     },
     "source": [
      "Premenn\u00e9"
     ]
    },
    {
     "cell_type": "code",
     "collapsed": false,
     "input": [
      "print('Ja som Python. Te\u0161\u00ed ma.')"
     ],
     "language": "python",
     "metadata": {},
     "outputs": [],
     "prompt_number": null
    },
    {
     "cell_type": "code",
     "collapsed": false,
     "input": [
      "# rucne vkladanie stringovej premennej\n",
      "moj_vek = input(\"Nap\u00ed\u0161, ko\u013eko m\u00e1\u0161 rokov: \")"
     ],
     "language": "python",
     "metadata": {},
     "outputs": [],
     "prompt_number": null
    },
    {
     "cell_type": "code",
     "collapsed": false,
     "input": [
      "print(moj_vek)"
     ],
     "language": "python",
     "metadata": {},
     "outputs": [],
     "prompt_number": null
    },
    {
     "cell_type": "markdown",
     "metadata": {
      "deletable": true,
      "editable": true
     },
     "source": [
      "Toto je premenn\u00e1.\n",
      "\n",
      "Po stla\u010den\u00ed Shift+Enter program v okienku zbehne a premenn\u00e1 sa ulo\u017e\u00ed do pam\u00e4te (RAMky, v\u0161etko sa deje na RAMke)."
     ]
    },
    {
     "cell_type": "code",
     "collapsed": true,
     "input": [
      "a = 2"
     ],
     "language": "python",
     "metadata": {
      "deletable": true,
      "editable": true
     },
     "outputs": [],
     "prompt_number": null
    },
    {
     "cell_type": "markdown",
     "metadata": {
      "deletable": true,
      "editable": true
     },
     "source": [
      "Teraz s \u0148ou mo\u017eno pracova\u0165 ako s be\u017en\u00fdm \u010d\u00edslom."
     ]
    },
    {
     "cell_type": "code",
     "collapsed": false,
     "input": [
      "2 * a"
     ],
     "language": "python",
     "metadata": {
      "deletable": true,
      "editable": true
     },
     "outputs": [],
     "prompt_number": null
    },
    {
     "cell_type": "code",
     "collapsed": false,
     "input": [
      "a + a"
     ],
     "language": "python",
     "metadata": {
      "deletable": true,
      "editable": true
     },
     "outputs": [],
     "prompt_number": null
    },
    {
     "cell_type": "code",
     "collapsed": false,
     "input": [
      "a + a * a"
     ],
     "language": "python",
     "metadata": {
      "deletable": true,
      "editable": true
     },
     "outputs": [],
     "prompt_number": null
    },
    {
     "cell_type": "markdown",
     "metadata": {
      "deletable": true,
      "editable": true
     },
     "source": [
      "Mo\u017eno ju aj umocni\u0165."
     ]
    },
    {
     "cell_type": "code",
     "collapsed": false,
     "input": [
      "a**3"
     ],
     "language": "python",
     "metadata": {
      "deletable": true,
      "editable": true
     },
     "outputs": [],
     "prompt_number": null
    },
    {
     "cell_type": "markdown",
     "metadata": {
      "deletable": true,
      "editable": true
     },
     "source": [
      "Premenn\u00e1 je typu `integer` (skr\u00e1tene `int`), \u010do znamen\u00e1 cel\u00e9 \u010d\u00edslo."
     ]
    },
    {
     "cell_type": "code",
     "collapsed": false,
     "input": [
      "type(a)"
     ],
     "language": "python",
     "metadata": {
      "deletable": true,
      "editable": true
     },
     "outputs": [],
     "prompt_number": null
    },
    {
     "cell_type": "markdown",
     "metadata": {
      "deletable": true,
      "editable": true
     },
     "source": [
      "Pridajme druh\u00fa premenn\u00fa."
     ]
    },
    {
     "cell_type": "code",
     "collapsed": true,
     "input": [
      "b = 5"
     ],
     "language": "python",
     "metadata": {
      "deletable": true,
      "editable": true
     },
     "outputs": [],
     "prompt_number": null
    },
    {
     "cell_type": "markdown",
     "metadata": {
      "deletable": true,
      "editable": true
     },
     "source": [
      "Nasledovn\u00e9 v\u00fdpo\u010dty dopadn\u00fa pod\u013ea o\u010dak\u00e1van\u00ed."
     ]
    },
    {
     "cell_type": "code",
     "collapsed": false,
     "input": [
      "a + b"
     ],
     "language": "python",
     "metadata": {
      "deletable": true,
      "editable": true
     },
     "outputs": [],
     "prompt_number": null
    },
    {
     "cell_type": "code",
     "collapsed": false,
     "input": [
      "a * b"
     ],
     "language": "python",
     "metadata": {
      "deletable": true,
      "editable": true
     },
     "outputs": [],
     "prompt_number": null
    },
    {
     "cell_type": "code",
     "collapsed": false,
     "input": [
      "b**a"
     ],
     "language": "python",
     "metadata": {
      "deletable": true,
      "editable": true
     },
     "outputs": [],
     "prompt_number": null
    },
    {
     "cell_type": "markdown",
     "metadata": {
      "deletable": true,
      "editable": true
     },
     "source": [
      "Re\u00e1lne \u010d\u00edsla m\u00f4\u017eeme zobrazova\u0165 aj vo vedeckej forme: $2.3\\times 10^{-3}$."
     ]
    },
    {
     "cell_type": "code",
     "collapsed": false,
     "input": [
      "d = 2.3e-3"
     ],
     "language": "python",
     "metadata": {
      "deletable": true,
      "editable": true
     },
     "outputs": [],
     "prompt_number": null
    },
    {
     "cell_type": "markdown",
     "metadata": {},
     "source": [
      "D\u00e1tov\u00fd typ premennej m\u00f4\u017eeme aj meni\u0165, pokia\u013e to d\u00e1va zmysel."
     ]
    },
    {
     "cell_type": "code",
     "collapsed": false,
     "input": [
      "a = '1' # toto je slovo\n",
      "b = 2 # toto je cislo"
     ],
     "language": "python",
     "metadata": {},
     "outputs": [],
     "prompt_number": null
    },
    {
     "cell_type": "code",
     "collapsed": false,
     "input": [
      "a + b # toto rob\u00ed error"
     ],
     "language": "python",
     "metadata": {},
     "outputs": [],
     "prompt_number": null
    },
    {
     "cell_type": "code",
     "collapsed": true,
     "input": [
      "a = int(a) # premena stringu na integer"
     ],
     "language": "python",
     "metadata": {},
     "outputs": [],
     "prompt_number": null
    },
    {
     "cell_type": "code",
     "collapsed": false,
     "input": [
      "a + b # uz to pocitacu dava zmysel"
     ],
     "language": "python",
     "metadata": {},
     "outputs": [],
     "prompt_number": null
    },
    {
     "cell_type": "code",
     "collapsed": true,
     "input": [
      "b = str(b) # premena integeru na string"
     ],
     "language": "python",
     "metadata": {},
     "outputs": [],
     "prompt_number": null
    },
    {
     "cell_type": "code",
     "collapsed": false,
     "input": [
      "b"
     ],
     "language": "python",
     "metadata": {},
     "outputs": [],
     "prompt_number": null
    },
    {
     "cell_type": "markdown",
     "metadata": {},
     "source": [
      "## [\u00daloha 0]\n",
      "Nap\u00ed\u0161te program, ktor\u00fd:\n",
      "- vyp\u00ed\u0161e \"Vlo\u017e prv\u00e9 \u010d\u00edslo: \"\n",
      "- si ulo\u017e\u00ed pod nejakou premennou \u010d\u00edslo, ktor\u00e9 mu vy ru\u010dne vlo\u017e\u00edte\n",
      "- vyp\u00ed\u0161e \"Vlo\u017e druh\u00e9 \u010d\u00edslo: \"\n",
      "- si ulo\u017e\u00ed pod nejakou inou premennou druh\u00e9 \u010d\u00edslo, ktor\u00e9 mu vy ru\u010dne vlo\u017e\u00edte\n",
      "- spo\u010d\u00edta s\u00fa\u010det, rozdiel a zist\u00ed, ktor\u00e9 \u010di je prv\u00e9 \u010d\u00edslo v\u00e4\u010d\u0161ie oproti druh\u00e9mu\n",
      "- vyp\u00ed\u0161e: \"S\u00fa\u010det je {}, rozdiel je {} a pravdivos\u0165 toho, \u017ee prv\u00e9 \u010d\u00edslo je v\u00e4\u010d\u0161ie je {}.\", kde namiesto znakov \"{}\" bud\u00fa spr\u00e1vne v\u00fdsledky\n",
      "\n",
      "Ak m\u00e1\u0161 \u00falohu hotov\u00fa, prihl\u00e1s sa ved\u00facemu."
     ]
    },
    {
     "cell_type": "code",
     "collapsed": false,
     "input": [],
     "language": "python",
     "metadata": {},
     "outputs": [],
     "prompt_number": null
    },
    {
     "cell_type": "markdown",
     "metadata": {
      "deletable": true,
      "editable": true
     },
     "source": [
      "Teraz sa m\u00f4\u017eeme posun\u00fa\u0165 k nie\u010domu viac zmysluplnej\u0161iemu. M\u00f4\u017eeme za\u010da\u0165 po\u010d\u00edta\u010du zad\u00e1va\u0165 \u00falohy, ktor\u00e9 by sme u\u017e sami nezvl\u00e1dli !\n",
      "\n",
      "# Funkcie\n",
      "\n",
      "Spravme si jednoduch\u00fa funkciu, ktor\u00e1 za n\u00e1s s\u010d\u00edta dve \u010d\u00edsla, aby sme sa s t\u00fdm u\u017e nemuseli tr\u00e1pi\u0165 my:"
     ]
    },
    {
     "cell_type": "code",
     "collapsed": false,
     "input": [
      "def scitaj(a, b):\n",
      "    print(\"\u010c\u00edslo a je {} a \u010d\u00edslo b je {}\".format(a, b))\n",
      "    return a + b"
     ],
     "language": "python",
     "metadata": {
      "deletable": true,
      "editable": true
     },
     "outputs": [],
     "prompt_number": null
    },
    {
     "cell_type": "code",
     "collapsed": false,
     "input": [
      "scitaj(10, 12) # vypise vetu a vrati sucet"
     ],
     "language": "python",
     "metadata": {
      "deletable": true,
      "editable": true
     },
     "outputs": [],
     "prompt_number": null
    },
    {
     "cell_type": "markdown",
     "metadata": {
      "deletable": true,
      "editable": true
     },
     "source": [
      "Funkcia funguje na cel\u00fdch aj re\u00e1lnych \u010d\u00edslach."
     ]
    },
    {
     "cell_type": "code",
     "collapsed": false,
     "input": [
      "scitaj(a=1.23, b=4.53) # da sa aj takto pisat"
     ],
     "language": "python",
     "metadata": {
      "deletable": true,
      "editable": true
     },
     "outputs": [],
     "prompt_number": null
    },
    {
     "cell_type": "markdown",
     "metadata": {
      "deletable": true,
      "editable": true
     },
     "source": [
      "Funguje dokonca aj na stringoch"
     ]
    },
    {
     "cell_type": "code",
     "collapsed": false,
     "input": [
      "scitaj(\"Ahoj \", \"Jo\u017eo\")"
     ],
     "language": "python",
     "metadata": {
      "deletable": true,
      "editable": true
     },
     "outputs": [],
     "prompt_number": null
    },
    {
     "cell_type": "markdown",
     "metadata": {},
     "source": [
      "Funkciu vieme nastavit tak, aby brala lubovolny pocet argumentov"
     ]
    },
    {
     "cell_type": "markdown",
     "metadata": {
      "deletable": true,
      "editable": true
     },
     "source": [
      "Na\u0161a s\u010d\u00edtacia funkcia m\u00e1 \u0161tyri podstatn\u00e9 veci:\n",
      "1. `def`: toto slovo definuje funkciu.\n",
      "2. dvojbodka na konci prv\u00e9ho riadku, odtia\u013e za\u010d\u00edna defin\u00edcia.\n",
      "3. Odsadenie k\u00f3du vn\u00fatri funkcie o \u0161tyri medzery (teoreticky m\u00f4\u017ee by\u0165 o hociko\u013eko, ale chceme udr\u017eova\u0165 kult\u00faru).\n",
      "4. Samotn\u00fd k\u00f3d. V \u0148om sa m\u00f4\u017ee dia\u0165 \u010doko\u013evek, Python ho postupne prech\u00e1dza.\n",
      "4. `return`: k\u013e\u00fa\u010dov\u00e1 vec. Za toto slovo sa p\u00ed\u0161e, \u010do je output funkcie."
     ]
    },
    {
     "cell_type": "markdown",
     "metadata": {
      "deletable": true,
      "editable": true
     },
     "source": [
      "## [\u00daloha 1]\n",
      "Nap\u00ed\u0161te funkciu `priemer`, ktor\u00e1 zoberie dve \u010d\u00edsla (v\u00fd\u0161ky dvoch chlapcov) a vypo\u010d\u00edta ich priemern\u00fa v\u00fd\u0161ku.\n",
      "\n",
      "Potom nap\u00ed\u0161te funkciu `priemer2`, ktor\u00e1 zoberie \u013eubovo\u013en\u00fd po\u010det v\u00fd\u0161ok \u013eud\u00ed (v miestnosti) a vr\u00e1ti ich priemer.\n",
      "\n",
      "Ak m\u00e1\u0161 \u00falohu hotov\u00fa, prihl\u00e1s sa ved\u00facemu."
     ]
    },
    {
     "cell_type": "code",
     "collapsed": true,
     "input": [
      "# Tvoje riesenie:\n"
     ],
     "language": "python",
     "metadata": {},
     "outputs": [],
     "prompt_number": null
    },
    {
     "cell_type": "markdown",
     "metadata": {
      "deletable": true,
      "editable": true
     },
     "source": [
      "# Po\u010fme na fyziku\n",
      "\n",
      "V tomto momente m\u00f4\u017eeme za\u010da\u0165 pou\u017e\u00edva\u0165 Python ako sofistikovanej\u0161iu kalkula\u010dku a po\u010d\u00edta\u0165 \u0148oz z\u00e1kladn\u00e9 fyzik\u00e1lne probl\u00e9my. \n",
      "Predstavme si napr\u00edklad, \u017ee potrebujeme zisti\u0165, ko\u013eko m\u00f3lov at\u00f3mov je v dvoch litroch vody."
     ]
    },
    {
     "cell_type": "code",
     "collapsed": false,
     "input": [
      "rho = 1000.0                # hustota\n",
      "V = 2.0 * 1e-3              # treba premeni\u0165 na metre kubick\u00e9\n",
      "m = rho * V                 # hmotnos\u0165 vody\n",
      "Mm = (16 + 1 + 1) * 1e-3    # kg/mol\n",
      "\n",
      "n = m / Mm\n",
      "print(n)                    # vypiseme"
     ],
     "language": "python",
     "metadata": {
      "deletable": true,
      "editable": true
     },
     "outputs": [],
     "prompt_number": null
    },
    {
     "cell_type": "markdown",
     "metadata": {
      "deletable": true,
      "editable": true
     },
     "source": [
      "A ko\u013eko molek\u00fal je v jednom litri vody?"
     ]
    },
    {
     "cell_type": "code",
     "collapsed": false,
     "input": [
      "NA = 6.022e23               # Avogadrova kon\u0161tanta\n",
      "V = 1e-3\n",
      "m = rho * V\n",
      "N = m / Mm * NA             # zamyslite sa nad porad\u00edm n\u00e1sobenia a delenia\n",
      "print(N)"
     ],
     "language": "python",
     "metadata": {
      "deletable": true,
      "editable": true
     },
     "outputs": [],
     "prompt_number": null
    },
    {
     "cell_type": "markdown",
     "metadata": {
      "deletable": true,
      "editable": true
     },
     "source": [
      "Vcelku dos\u0165..."
     ]
    },
    {
     "cell_type": "markdown",
     "metadata": {
      "deletable": true,
      "editable": true
     },
     "source": [
      "## [\u00daloha 2]\n",
      "Spo\u010d\u00edtajte objem, ktor\u00fd v priemere zaber\u00e1 jedna molekula \u013eubovo\u013enej kvapaliny. Vyjadrite ho v nanometroch kubick\u00fdch.\n",
      "\n",
      "Urobte to tak, \u017ee nap\u00ed\u0161ete funkciu, ktor\u00e1 bude ako vstup bra\u0165:\n",
      "* objem kvapaliny\n",
      "* hustotu kvapaliny\n",
      "* mol\u00e1rnu hmotnos\u0165 kvapaliny\n",
      "a ako v\u00fdstup to d\u00e1 objem jednej molekuly kvapaliny. \n",
      "\n",
      "Spo\u010d\u00edtajte to pre metanol, etanol a benz\u00e9n a v\u00fdsledky potom uk\u00e1\u017ete ved\u00facemu. Nev\u00e1hajte pou\u017e\u00edva\u0165 Google."
     ]
    },
    {
     "cell_type": "code",
     "collapsed": true,
     "input": [
      "# Tvoje riesenie:\n"
     ],
     "language": "python",
     "metadata": {
      "deletable": true,
      "editable": true
     },
     "outputs": [],
     "prompt_number": null
    },
    {
     "cell_type": "markdown",
     "metadata": {
      "deletable": true,
      "editable": true
     },
     "source": [
      "# Zoznamy\n",
      "\n",
      "Zatia\u013e sme sa zozn\u00e1mili s \u010d\u00edslami (cel\u00e9, re\u00e1lne), stringami a trochu aj logick\u00fdmi hodnotami.\n",
      "Zo v\u0161etk\u00fdch t\u00fdchto prvkov vieme vytv\u00e1ra\u0165 mno\u017einy, v informatickom jazyku `zoznamy`.\n",
      "\n",
      "Na \u00favod sa teda pozrieme, ako s vytv\u00e1ra zoznam (po anglicky `list`). Tak\u00fato vec v\u0161eobecne naz\u00fdvame d\u00e1tov\u00e1 \u0161trukt\u00fara."
     ]
    },
    {
     "cell_type": "code",
     "collapsed": false,
     "input": [
      "li = [] # prazdny list\n",
      "print(li)"
     ],
     "language": "python",
     "metadata": {},
     "outputs": [],
     "prompt_number": null
    },
    {
     "cell_type": "code",
     "collapsed": true,
     "input": [
      "v = [4, 2, 3] # list s cislami"
     ],
     "language": "python",
     "metadata": {
      "deletable": true,
      "editable": true
     },
     "outputs": [],
     "prompt_number": null
    },
    {
     "cell_type": "code",
     "collapsed": false,
     "input": [
      "v"
     ],
     "language": "python",
     "metadata": {
      "deletable": true,
      "editable": true
     },
     "outputs": [],
     "prompt_number": null
    },
    {
     "cell_type": "code",
     "collapsed": false,
     "input": [
      "v[0] # indexuje sa nulou!"
     ],
     "language": "python",
     "metadata": {},
     "outputs": [],
     "prompt_number": null
    },
    {
     "cell_type": "code",
     "collapsed": false,
     "input": [
      "v[1]\n",
      "v[2]"
     ],
     "language": "python",
     "metadata": {},
     "outputs": [],
     "prompt_number": null
    },
    {
     "cell_type": "code",
     "collapsed": false,
     "input": [
      "w = [5, 'ahoj', True]\n",
      "w"
     ],
     "language": "python",
     "metadata": {
      "deletable": true,
      "editable": true
     },
     "outputs": [],
     "prompt_number": null
    },
    {
     "cell_type": "code",
     "collapsed": false,
     "input": [
      "type(w[0])"
     ],
     "language": "python",
     "metadata": {},
     "outputs": [],
     "prompt_number": null
    },
    {
     "cell_type": "markdown",
     "metadata": {
      "deletable": true,
      "editable": true
     },
     "source": [
      "\u010co sa sa stane, ak zoznamy s\u010d\u00edtame? Spoja sa."
     ]
    },
    {
     "cell_type": "code",
     "collapsed": false,
     "input": [
      "v + w"
     ],
     "language": "python",
     "metadata": {
      "deletable": true,
      "editable": true
     },
     "outputs": [],
     "prompt_number": null
    },
    {
     "cell_type": "markdown",
     "metadata": {
      "deletable": true,
      "editable": true
     },
     "source": [
      "M\u00f4\u017eeme ich n\u00e1sobi\u0165?"
     ]
    },
    {
     "cell_type": "code",
     "collapsed": false,
     "input": [
      "v * v"
     ],
     "language": "python",
     "metadata": {
      "deletable": true,
      "editable": true
     },
     "outputs": [],
     "prompt_number": null
    },
    {
     "cell_type": "markdown",
     "metadata": {
      "deletable": true,
      "editable": true
     },
     "source": [
      "Smola, nem\u00f4\u017eeme. Ale v\u0161imnime si, ak\u00e1 u\u017eito\u010dn\u00e1 je chybov\u00e1 hl\u00e1\u0161ka. Jasne n\u00e1m hovor\u00ed, \u017ee nemo\u017eno n\u00e1sobi\u0165 `list`y."
     ]
    },
    {
     "cell_type": "markdown",
     "metadata": {
      "deletable": true,
      "editable": true
     },
     "source": [
      "So zoznamami m\u00f4\u017eeme robi\u0165 r\u00f4zne in\u00e9 u\u017eito\u010dn\u00e9 veci. Napr\u00edklad ich s\u010d\u00edta\u0165."
     ]
    },
    {
     "cell_type": "code",
     "collapsed": false,
     "input": [
      "sum(v)"
     ],
     "language": "python",
     "metadata": {
      "deletable": true,
      "editable": true
     },
     "outputs": [],
     "prompt_number": null
    },
    {
     "cell_type": "markdown",
     "metadata": {
      "deletable": true,
      "editable": true
     },
     "source": [
      "Alebo zisti\u0165 d\u013a\u017eku:"
     ]
    },
    {
     "cell_type": "code",
     "collapsed": false,
     "input": [
      "len(v)"
     ],
     "language": "python",
     "metadata": {
      "deletable": true,
      "editable": true
     },
     "outputs": [],
     "prompt_number": null
    },
    {
     "cell_type": "markdown",
     "metadata": {
      "deletable": true,
      "editable": true
     },
     "source": [
      "Alebo ich utriedi\u0165:"
     ]
    },
    {
     "cell_type": "code",
     "collapsed": false,
     "input": [
      "sorted(v, reverse=True)"
     ],
     "language": "python",
     "metadata": {
      "deletable": true,
      "editable": true
     },
     "outputs": [],
     "prompt_number": null
    },
    {
     "cell_type": "markdown",
     "metadata": {
      "deletable": true,
      "editable": true
     },
     "source": [
      "Alebo na koniec prida\u0165 nov\u00fd prvok:"
     ]
    },
    {
     "cell_type": "code",
     "collapsed": false,
     "input": [
      "v = [4, 2, 3]\n",
      "v.append(10)\n",
      "v.insert(0, 30)\n",
      "v"
     ],
     "language": "python",
     "metadata": {
      "deletable": true,
      "editable": true
     },
     "outputs": [],
     "prompt_number": null
    },
    {
     "cell_type": "markdown",
     "metadata": {},
     "source": [
      "Alebo odobra\u0165:"
     ]
    },
    {
     "cell_type": "code",
     "collapsed": false,
     "input": [
      "v = [4, 2, 3]\n",
      "v.pop(1)\n",
      "v"
     ],
     "language": "python",
     "metadata": {},
     "outputs": [],
     "prompt_number": null
    },
    {
     "cell_type": "markdown",
     "metadata": {},
     "source": [
      "### Interval\n",
      "v zozname sa d\u00e1 h\u013eada\u0165 pomocou intervalov, ktor\u00e9 s\u00fa $\\langle x,y)$, \u010di\u017ee uzavret\u00fd - otvoren\u00fd."
     ]
    },
    {
     "cell_type": "code",
     "collapsed": false,
     "input": [
      "li = [2, 5, 7, 8, 10, 11, 14, 18, 20, 25]\n",
      "len(li)"
     ],
     "language": "python",
     "metadata": {},
     "outputs": [],
     "prompt_number": null
    },
    {
     "cell_type": "code",
     "collapsed": false,
     "input": [
      "li[1:7] # indexovanie na zaciatku nulou + polouzavrety interval"
     ],
     "language": "python",
     "metadata": {},
     "outputs": [],
     "prompt_number": null
    },
    {
     "cell_type": "code",
     "collapsed": false,
     "input": [
      "li[:3] # prve tri prvky"
     ],
     "language": "python",
     "metadata": {},
     "outputs": [],
     "prompt_number": null
    },
    {
     "cell_type": "code",
     "collapsed": false,
     "input": [
      "li[6:] # prvky zacinajuce na 6tom mieste"
     ],
     "language": "python",
     "metadata": {},
     "outputs": [],
     "prompt_number": null
    },
    {
     "cell_type": "code",
     "collapsed": false,
     "input": [
      "li[2:9:2] # zaciatok:koniec:krok"
     ],
     "language": "python",
     "metadata": {},
     "outputs": [],
     "prompt_number": null
    },
    {
     "cell_type": "code",
     "collapsed": false,
     "input": [
      "del li[2]\n",
      "li"
     ],
     "language": "python",
     "metadata": {},
     "outputs": [],
     "prompt_number": null
    },
    {
     "cell_type": "markdown",
     "metadata": {
      "deletable": true,
      "editable": true
     },
     "source": [
      "Zoznam mo\u017eno zadefinova\u0165 aj cez rozsah:"
     ]
    },
    {
     "cell_type": "code",
     "collapsed": false,
     "input": [
      "N = 20\n",
      "range(N)\n",
      "type(range(N))"
     ],
     "language": "python",
     "metadata": {
      "deletable": true,
      "editable": true
     },
     "outputs": [],
     "prompt_number": null
    },
    {
     "cell_type": "code",
     "collapsed": false,
     "input": [
      "list(range(N))"
     ],
     "language": "python",
     "metadata": {
      "deletable": true,
      "editable": true
     },
     "outputs": [],
     "prompt_number": null
    },
    {
     "cell_type": "code",
     "collapsed": false,
     "input": [
      "list(range(3, 19, 3))"
     ],
     "language": "python",
     "metadata": {
      "deletable": true,
      "editable": true
     },
     "outputs": [],
     "prompt_number": null
    },
    {
     "cell_type": "code",
     "collapsed": false,
     "input": [
      "v = [1, 2, 3]\n",
      "print(v)\n",
      "del v[2]\n",
      "print(v)"
     ],
     "language": "python",
     "metadata": {},
     "outputs": [],
     "prompt_number": null
    },
    {
     "cell_type": "markdown",
     "metadata": {
      "deletable": true,
      "editable": true
     },
     "source": [
      "## [\u00daloha 3]\n",
      "Spo\u010d\u00edtajte:\n",
      "* s\u00fa\u010det v\u0161etk\u00fdch \u010d\u00edsel od 1 do 1000.\n",
      "\n",
      "Vytvorte zoznam `letnaskola`, ktor\u00fd bude obsahova\u0165 va\u0161ich 5 ob\u013e\u00faben\u00fdch cel\u00fdch \u010d\u00edsel. \n",
      "* Pridajte na koniec zoznamu \u010d\u00edslo 100\n",
      "* Vyma\u017ete druh\u00e9 \u010d\u00edslo zo zoznamu.\n",
      "* Prep\u00ed\u0161te prv\u00e9 \u010d\u00edslo v zozname tak, aby sa rovnalo posledn\u00e9mu v zozname.\n",
      "* Vypo\u010d\u00edtajte s\u00fa\u010det prv\u00e9ho \u010d\u00edsla, posledn\u00e9ho \u010d\u00edsla a d\u013a\u017eky zoznamu."
     ]
    },
    {
     "cell_type": "code",
     "collapsed": false,
     "input": [
      "# Tvoje riesenie:"
     ],
     "language": "python",
     "metadata": {
      "deletable": true,
      "editable": true
     },
     "outputs": [],
     "prompt_number": null
    },
    {
     "cell_type": "markdown",
     "metadata": {
      "deletable": true,
      "editable": true
     },
     "source": [
      "# For cyklus\n",
      "\n",
      "Indexy zoznamu m\u00f4\u017eeme postupne prech\u00e1dza\u0165. For cyklus je tzv. `iter\u00e1tor`, ktor\u00fd iteruje cez zoznam."
     ]
    },
    {
     "cell_type": "code",
     "collapsed": false,
     "input": [
      "li"
     ],
     "language": "python",
     "metadata": {},
     "outputs": [],
     "prompt_number": null
    },
    {
     "cell_type": "code",
     "collapsed": false,
     "input": [
      "for i in li:\n",
      "    print(i, i+1, i+10)"
     ],
     "language": "python",
     "metadata": {
      "deletable": true,
      "editable": true
     },
     "outputs": [],
     "prompt_number": null
    },
    {
     "cell_type": "code",
     "collapsed": false,
     "input": [
      "for i in range(1, 11):\n",
      "    print(i**2)"
     ],
     "language": "python",
     "metadata": {
      "deletable": true,
      "editable": true
     },
     "outputs": [],
     "prompt_number": null
    },
    {
     "cell_type": "markdown",
     "metadata": {
      "deletable": true,
      "editable": true
     },
     "source": [
      "Ako \u00faspe\u0161ne vytvori\u0165 For cyklus? Podobne, ako pri funkci\u00e1ch:\n",
      "\n",
      "* `for`: toto slovo je na za\u010diatku.\n",
      "* `i`: iterovana velicina\n",
      "* `in`: pred zoznamom, cez ktor\u00fd prech\u00e1dzame (iterujeme).\n",
      "* dvojbodka na konci prv\u00e9ho riadku.\n",
      "* kod, ktory sa cykli sa odsadzuje o \u0161tyri medzery."
     ]
    },
    {
     "cell_type": "markdown",
     "metadata": {
      "deletable": true,
      "editable": true
     },
     "source": [
      "Za pomoci for cyklu m\u00f4\u017eeme takisto s\u010d\u00edta\u0165 \u010d\u00edsla. Napr. \u010d\u00edsla od 0 do 100:"
     ]
    },
    {
     "cell_type": "code",
     "collapsed": false,
     "input": [
      "suma = 0\n",
      "\n",
      "for i in range(101):   # uvedomme si, preco tam je 101 a nie 100\n",
      "    suma += i      # skratene sum += i\n",
      "    \n",
      "print(suma)"
     ],
     "language": "python",
     "metadata": {
      "deletable": true,
      "editable": true
     },
     "outputs": [],
     "prompt_number": null
    },
    {
     "cell_type": "markdown",
     "metadata": {
      "deletable": true,
      "editable": true
     },
     "source": [
      "## [\u00daloha 4]\n",
      "Spo\u010d\u00edtajte s\u00fa\u010det druh\u00fdch mocn\u00edn v\u0161etk\u00fdch nep\u00e1rnych \u010d\u00edsel od 1 do 100 s vyu\u017eit\u00edm for cyklu."
     ]
    },
    {
     "cell_type": "code",
     "collapsed": false,
     "input": [
      "# Tvoje riesenie:"
     ],
     "language": "python",
     "metadata": {},
     "outputs": [],
     "prompt_number": null
    },
    {
     "cell_type": "markdown",
     "metadata": {
      "deletable": true,
      "editable": true
     },
     "source": [
      "# Podmienky\n",
      "\n",
      "Pochop\u00edme ich na pr\u00edklade. Zme\u0148te `a` a zistite, \u010do to sprav\u00ed."
     ]
    },
    {
     "cell_type": "code",
     "collapsed": false,
     "input": [
      "a = 5\n",
      "\n",
      "if a == 3:\n",
      "    print(\"cislo a je rovne trom.\")\n",
      "elif a == 5:\n",
      "    print(\"cislo a je rovne piatim\")\n",
      "else:\n",
      "    print(\"cislo a nie je rovne trom ani piatim.\")"
     ],
     "language": "python",
     "metadata": {
      "deletable": true,
      "editable": true
     },
     "outputs": [],
     "prompt_number": null
    },
    {
     "cell_type": "markdown",
     "metadata": {
      "deletable": true,
      "editable": true
     },
     "source": [
      "Za pomoci podmienky teraz m\u00f4\u017eeme z for cyklu vyp\u00edsa\u0165 napr. len p\u00e1rne \u010d\u00edsla. P\u00e1rne \u010d\u00edslo identifikujeme ako tak\u00e9, ktor\u00e9 po delen\u00ed dvomi d\u00e1va zvy\u0161ok nula.\n",
      "\n",
      "Pre zvy\u0161ok po delen\u00ed sa pou\u017e\u00edva percento:"
     ]
    },
    {
     "cell_type": "code",
     "collapsed": false,
     "input": [
      "for i in range(10):\n",
      "    if i % 2 == 0:\n",
      "        print(i)"
     ],
     "language": "python",
     "metadata": {
      "deletable": true,
      "editable": true
     },
     "outputs": [],
     "prompt_number": null
    },
    {
     "cell_type": "markdown",
     "metadata": {},
     "source": [
      "Cyklus mozeme zastavit, ak sa porusi nejaka podmienka"
     ]
    },
    {
     "cell_type": "code",
     "collapsed": false,
     "input": [
      "for i in range(20):\n",
      "    print(i)\n",
      "    if i > 10:\n",
      "        print('Koniec.')\n",
      "        break"
     ],
     "language": "python",
     "metadata": {},
     "outputs": [],
     "prompt_number": null
    },
    {
     "cell_type": "markdown",
     "metadata": {
      "deletable": true,
      "editable": true
     },
     "source": [
      "## [\u00daloha 5]\n",
      "Spo\u010d\u00edtajte:\n",
      "* s\u00fa\u010det v\u0161etk\u00fdch \u010d\u00edsel od 1 do 1000 delite\u013en\u00fdch jeden\u00e1stimi.\n",
      "* s\u00fa\u010det tret\u00edch mocn\u00edn \u010d\u00edsel od 1 do 1000 delite\u013en\u00fdch dvan\u00e1stimi."
     ]
    },
    {
     "cell_type": "code",
     "collapsed": false,
     "input": [
      "# Tvoje riesenie:"
     ],
     "language": "python",
     "metadata": {},
     "outputs": [],
     "prompt_number": null
    },
    {
     "cell_type": "markdown",
     "metadata": {
      "deletable": true,
      "editable": true
     },
     "source": [
      "## [\u00daloha 6]\n",
      "\n",
      "Teraz, ke\u010f u\u017e vieme, ako sa zis\u0165uje delite\u013enos\u0165, m\u00f4\u017eeme tie\u017e zisti\u0165, \u010di je zadan\u00e9 \u010d\u00edslo prvo\u010d\u00edslom. Vymyslite algoritmus, ktor\u00fd over\u00ed prvo\u010d\u00edseln\u00fa vlastnos\u0165 nejak\u00e9ho \u010d\u00edsla.\n",
      "\n",
      "V\u00fdstup by mal by\u0165 nasledovn\u00fd:\n",
      "```Python\n",
      ">>> prvocislo(10)\n",
      "nie\n",
      ">>> prvocislo(13)\n",
      "ano\n",
      "```"
     ]
    },
    {
     "cell_type": "code",
     "collapsed": false,
     "input": [
      "# Tvoje riesenie:"
     ],
     "language": "python",
     "metadata": {},
     "outputs": [],
     "prompt_number": null
    },
    {
     "cell_type": "markdown",
     "metadata": {
      "deletable": true,
      "editable": true
     },
     "source": [
      "## [\u00daloha 7]\n",
      "Vytvorte funkciu, ktor\u00e1 spo\u010d\u00edta cifern\u00fd s\u00fa\u010det zadan\u00e9ho \u010d\u00edsla.\n",
      "\n",
      "Hint: modulo 10 v\u00e1m ur\u010d\u00ed posledn\u00fa cifu v \u010d\u00edsle."
     ]
    },
    {
     "cell_type": "code",
     "collapsed": true,
     "input": [
      "# Tvoje riesenie:"
     ],
     "language": "python",
     "metadata": {},
     "outputs": [],
     "prompt_number": null
    },
    {
     "cell_type": "markdown",
     "metadata": {
      "deletable": true,
      "editable": true
     },
     "source": [
      "## [\u00daloha 8]\n",
      "Predstavme si, \u017ee chceme s\u010d\u00edta\u0165 nekone\u010dn\u00fd po\u010det \u010d\u00edsel:\n",
      "$$ \\sum_{n=1}^\\infty \\frac{1}{n^2}.$$\n",
      "Analytick\u00fd v\u00fdsledok takejto sumy je $\\pi^2/6$. Ko\u013eko \u010dlenov potrebujeme s\u010d\u00edta\u0165, aby presnos\u0165 s analytick\u00fd v\u00fdsledkov bola ur\u010den\u00e1 na tri desatinn\u00e9 miesta?"
     ]
    },
    {
     "cell_type": "code",
     "collapsed": true,
     "input": [
      "# Tvoje riesenie:\n"
     ],
     "language": "python",
     "metadata": {},
     "outputs": [],
     "prompt_number": null
    },
    {
     "cell_type": "markdown",
     "metadata": {
      "deletable": true,
      "editable": true
     },
     "source": [
      "## [Kone\u010dne fyzik\u00e1lna \u00faloha]\n",
      "Predpoklad\u00e1me, \u017ee ste sa u\u017e u\u010dili o mernej tepelnej kapacite l\u00e1tok a teple potrebnom na ohriatie l\u00e1tky o nejak\u00fa teplotu:\n",
      "\n",
      "$$ Q = m\\,c\\,\\Delta T.$$\n",
      "\n",
      "Preto by sme mohli vedie\u0165 spo\u010d\u00edta\u0165, ak\u00e1 bude v\u00fdsledn\u00e1 teplota zmesi, ktor\u00e1 vznikne spojen\u00edm l\u00e1tky 1 s mernou tepelnou kapacitou $c_1$ a teplotou $T_1$ a l\u00e1tky 2 s $c_2$ a $T_2$.\n",
      "\n",
      "Nap\u00ed\u0161te funkciu, ktor\u00e1 toto spo\u010d\u00edta za v\u00e1s automaticky, pre dan\u00e9 $c_1, c_2, T_1, T_2$.\n",
      "\n",
      "Overte pre zmie\u0161anie kila vody s teplotou 20$\\,^\\circ$C a 80$\\,^\\circ$C."
     ]
    },
    {
     "cell_type": "code",
     "collapsed": true,
     "input": [
      "# Tvoje riesenie:\n"
     ],
     "language": "python",
     "metadata": {
      "deletable": true,
      "editable": true
     },
     "outputs": [],
     "prompt_number": null
    }
   ],
   "metadata": {}
  }
 ]
}